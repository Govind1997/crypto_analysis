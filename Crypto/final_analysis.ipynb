{
 "cells": [
  {
   "cell_type": "code",
   "execution_count": null,
   "id": "58687158",
   "metadata": {},
   "outputs": [],
   "source": [
    "#\n",
    "from pandas_datareader import data as pdr\n",
    "from datetime import date\n",
    "import pandas as pd\n",
    "import numpy as np\n",
    "import matplotlib.pyplot as plt\n",
    "import seaborn as sns\n",
    "import yfinance as yf\n",
    "yf.pdr_override()\n"
   ]
  },
  {
   "cell_type": "code",
   "execution_count": null,
   "id": "7c5f2022",
   "metadata": {},
   "outputs": [],
   "source": [
    "#####################################################################################\n",
    "#                       FUNCTIONS FOR QUICK DATA IMPORTINg\n",
    "\n",
    "\n",
    "#A function to import data from yahoo finance-\n",
    "def y_importer(y):\n",
    "    start_date = '2018-05-24'\n",
    "    end_date = '2021-05-24'\n",
    "    x = pdr.get_data_yahoo(y, start=start_date, end=end_date)\n",
    "    return x\n",
    "\n",
    "# a function with a for loop to fill missing values with forward fill ie. the previous value\n",
    "def fill_missing_val(x):\n",
    "        for col in x:\n",
    "            x[col].fillna(method='ffill',inplace = True)\n",
    "        return   x.isnull().any()\n",
    "\n",
    "\n",
    "#creating a new function to clean data\n",
    "def crypto_cleaner(x):\n",
    "    x['Change %']= x['Close'].pct_change()\n",
    "    x['Change %'].fillna(method = 'bfill',inplace = True)\n",
    "    x.reset_index(inplace=True,drop=False)\n",
    "    x.Date = x.Date.astype('datetime64')\n",
    "    return x.info()\n",
    "    \n",
    "#creating a new function to plot data\n",
    "def crypto_plotter(x):\n",
    "    fig, (ax1,ax2,ax3) = plt.subplots(3,1)\n",
    "\n",
    "    ax1.plot(x['Date'],x['Close'])\n",
    "    ax2.plot(x['Date'],x['Change %'],color = 'g')\n",
    "    ax3.plot(x['Date'],x['Volume'],color = 'r')\n",
    "\n",
    "\n",
    "    fig.subplots_adjust(left=0.1,\n",
    "                    bottom=0.1, \n",
    "                    right=0.9, \n",
    "                    top=0.9, \n",
    "                    wspace=0.4, \n",
    "                    hspace=0.4)\n",
    "\n",
    "    plt.tight_layout()\n",
    "    %config InlineBackend.figure_format = 'svg'\n",
    "    plt.show()\n",
    "\n",
    "#creating a function to drop unnecessary data\n",
    "def crypto_dropper(x):\n",
    "    x['close']=x['Close']\n",
    "    x['pct_chng']=x['Change %']\n",
    "    x['vol']=x['Volume']\n",
    "\n",
    "    x.drop(x.iloc[:,1:8], axis = 1, inplace=True)\n",
    "\n",
    "    return x\n",
    "\n",
    "#creating a function to combine previous 3 functions\n",
    "def crypto_processor(x):\n",
    "    fill_missing_val(x)\n",
    "    crypto_cleaner(x)\n",
    "    crypto_plotter(x)\n",
    "    crypto_dropper(x)\n",
    "    return x\n"
   ]
  },
  {
   "cell_type": "code",
   "execution_count": null,
   "id": "250510ff",
   "metadata": {},
   "outputs": [],
   "source": [
    "eth = y_importer('ETH-USD')"
   ]
  },
  {
   "cell_type": "code",
   "execution_count": null,
   "id": "511dc919",
   "metadata": {},
   "outputs": [],
   "source": [
    "crypto_processor(eth)"
   ]
  },
  {
   "cell_type": "code",
   "execution_count": null,
   "id": "8e718974",
   "metadata": {},
   "outputs": [],
   "source": [
    "eth"
   ]
  },
  {
   "cell_type": "code",
   "execution_count": null,
   "id": "1ec522fb",
   "metadata": {},
   "outputs": [],
   "source": []
  }
 ],
 "metadata": {
  "kernelspec": {
   "display_name": "Python 3",
   "language": "python",
   "name": "python3"
  },
  "language_info": {
   "codemirror_mode": {
    "name": "ipython",
    "version": 3
   },
   "file_extension": ".py",
   "mimetype": "text/x-python",
   "name": "python",
   "nbconvert_exporter": "python",
   "pygments_lexer": "ipython3",
   "version": "3.8.10"
  }
 },
 "nbformat": 4,
 "nbformat_minor": 5
}
